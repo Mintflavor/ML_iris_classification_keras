{
 "cells": [
  {
   "cell_type": "code",
   "execution_count": 1,
   "id": "mounted-halloween",
   "metadata": {},
   "outputs": [],
   "source": [
    "import pandas as pd\n",
    "import numpy as np\n",
    "import matplotlib.pyplot as plt\n",
    "import keras.models as models\n",
    "import keras.layers as layers\n",
    "import keras.metrics as metrics\n",
    "from keras.utils import to_categorical"
   ]
  },
  {
   "cell_type": "code",
   "execution_count": 2,
   "id": "piano-girlfriend",
   "metadata": {},
   "outputs": [],
   "source": [
    "trainData = pd.read_csv(\"./iris_train.csv\", names=['sepalLength', 'sepalWidth', 'petalLength', 'petalWidth', 'class'])\n",
    "testData = pd.read_csv(\"./iris_test.csv\", names=['sepalLength', 'sepalWidth', 'petalLength', 'petalWidth', 'class'])"
   ]
  },
  {
   "cell_type": "code",
   "execution_count": 3,
   "id": "partial-consensus",
   "metadata": {},
   "outputs": [
    {
     "data": {
      "text/html": [
       "<div>\n",
       "<style scoped>\n",
       "    .dataframe tbody tr th:only-of-type {\n",
       "        vertical-align: middle;\n",
       "    }\n",
       "\n",
       "    .dataframe tbody tr th {\n",
       "        vertical-align: top;\n",
       "    }\n",
       "\n",
       "    .dataframe thead th {\n",
       "        text-align: right;\n",
       "    }\n",
       "</style>\n",
       "<table border=\"1\" class=\"dataframe\">\n",
       "  <thead>\n",
       "    <tr style=\"text-align: right;\">\n",
       "      <th></th>\n",
       "      <th>sepalLength</th>\n",
       "      <th>sepalWidth</th>\n",
       "      <th>petalLength</th>\n",
       "      <th>petalWidth</th>\n",
       "      <th>class</th>\n",
       "    </tr>\n",
       "  </thead>\n",
       "  <tbody>\n",
       "    <tr>\n",
       "      <th>0</th>\n",
       "      <td>5.1</td>\n",
       "      <td>3.5</td>\n",
       "      <td>1.4</td>\n",
       "      <td>0.2</td>\n",
       "      <td>0</td>\n",
       "    </tr>\n",
       "    <tr>\n",
       "      <th>1</th>\n",
       "      <td>4.9</td>\n",
       "      <td>3.0</td>\n",
       "      <td>1.4</td>\n",
       "      <td>0.2</td>\n",
       "      <td>0</td>\n",
       "    </tr>\n",
       "    <tr>\n",
       "      <th>2</th>\n",
       "      <td>4.7</td>\n",
       "      <td>3.2</td>\n",
       "      <td>1.3</td>\n",
       "      <td>0.2</td>\n",
       "      <td>0</td>\n",
       "    </tr>\n",
       "    <tr>\n",
       "      <th>3</th>\n",
       "      <td>4.6</td>\n",
       "      <td>3.1</td>\n",
       "      <td>1.5</td>\n",
       "      <td>0.2</td>\n",
       "      <td>0</td>\n",
       "    </tr>\n",
       "    <tr>\n",
       "      <th>4</th>\n",
       "      <td>5.0</td>\n",
       "      <td>3.6</td>\n",
       "      <td>1.4</td>\n",
       "      <td>0.2</td>\n",
       "      <td>0</td>\n",
       "    </tr>\n",
       "    <tr>\n",
       "      <th>...</th>\n",
       "      <td>...</td>\n",
       "      <td>...</td>\n",
       "      <td>...</td>\n",
       "      <td>...</td>\n",
       "      <td>...</td>\n",
       "    </tr>\n",
       "    <tr>\n",
       "      <th>70</th>\n",
       "      <td>6.9</td>\n",
       "      <td>3.2</td>\n",
       "      <td>5.7</td>\n",
       "      <td>2.3</td>\n",
       "      <td>2</td>\n",
       "    </tr>\n",
       "    <tr>\n",
       "      <th>71</th>\n",
       "      <td>5.6</td>\n",
       "      <td>2.8</td>\n",
       "      <td>4.9</td>\n",
       "      <td>2.0</td>\n",
       "      <td>2</td>\n",
       "    </tr>\n",
       "    <tr>\n",
       "      <th>72</th>\n",
       "      <td>7.7</td>\n",
       "      <td>2.8</td>\n",
       "      <td>6.7</td>\n",
       "      <td>2.0</td>\n",
       "      <td>2</td>\n",
       "    </tr>\n",
       "    <tr>\n",
       "      <th>73</th>\n",
       "      <td>6.3</td>\n",
       "      <td>2.7</td>\n",
       "      <td>4.9</td>\n",
       "      <td>1.8</td>\n",
       "      <td>2</td>\n",
       "    </tr>\n",
       "    <tr>\n",
       "      <th>74</th>\n",
       "      <td>6.7</td>\n",
       "      <td>3.3</td>\n",
       "      <td>5.7</td>\n",
       "      <td>2.1</td>\n",
       "      <td>2</td>\n",
       "    </tr>\n",
       "  </tbody>\n",
       "</table>\n",
       "<p>75 rows × 5 columns</p>\n",
       "</div>"
      ],
      "text/plain": [
       "    sepalLength  sepalWidth  petalLength  petalWidth  class\n",
       "0           5.1         3.5          1.4         0.2      0\n",
       "1           4.9         3.0          1.4         0.2      0\n",
       "2           4.7         3.2          1.3         0.2      0\n",
       "3           4.6         3.1          1.5         0.2      0\n",
       "4           5.0         3.6          1.4         0.2      0\n",
       "..          ...         ...          ...         ...    ...\n",
       "70          6.9         3.2          5.7         2.3      2\n",
       "71          5.6         2.8          4.9         2.0      2\n",
       "72          7.7         2.8          6.7         2.0      2\n",
       "73          6.3         2.7          4.9         1.8      2\n",
       "74          6.7         3.3          5.7         2.1      2\n",
       "\n",
       "[75 rows x 5 columns]"
      ]
     },
     "execution_count": 3,
     "metadata": {},
     "output_type": "execute_result"
    }
   ],
   "source": [
    "trainData"
   ]
  },
  {
   "cell_type": "code",
   "execution_count": 4,
   "id": "transparent-worker",
   "metadata": {},
   "outputs": [
    {
     "data": {
      "text/html": [
       "<div>\n",
       "<style scoped>\n",
       "    .dataframe tbody tr th:only-of-type {\n",
       "        vertical-align: middle;\n",
       "    }\n",
       "\n",
       "    .dataframe tbody tr th {\n",
       "        vertical-align: top;\n",
       "    }\n",
       "\n",
       "    .dataframe thead th {\n",
       "        text-align: right;\n",
       "    }\n",
       "</style>\n",
       "<table border=\"1\" class=\"dataframe\">\n",
       "  <thead>\n",
       "    <tr style=\"text-align: right;\">\n",
       "      <th></th>\n",
       "      <th>sepalLength</th>\n",
       "      <th>sepalWidth</th>\n",
       "      <th>petalLength</th>\n",
       "      <th>petalWidth</th>\n",
       "      <th>class</th>\n",
       "    </tr>\n",
       "  </thead>\n",
       "  <tbody>\n",
       "    <tr>\n",
       "      <th>0</th>\n",
       "      <td>5.0</td>\n",
       "      <td>3.0</td>\n",
       "      <td>1.6</td>\n",
       "      <td>0.2</td>\n",
       "      <td>0</td>\n",
       "    </tr>\n",
       "    <tr>\n",
       "      <th>1</th>\n",
       "      <td>5.0</td>\n",
       "      <td>3.4</td>\n",
       "      <td>1.6</td>\n",
       "      <td>0.4</td>\n",
       "      <td>0</td>\n",
       "    </tr>\n",
       "    <tr>\n",
       "      <th>2</th>\n",
       "      <td>5.2</td>\n",
       "      <td>3.5</td>\n",
       "      <td>1.5</td>\n",
       "      <td>0.2</td>\n",
       "      <td>0</td>\n",
       "    </tr>\n",
       "    <tr>\n",
       "      <th>3</th>\n",
       "      <td>5.2</td>\n",
       "      <td>3.4</td>\n",
       "      <td>1.4</td>\n",
       "      <td>0.2</td>\n",
       "      <td>0</td>\n",
       "    </tr>\n",
       "    <tr>\n",
       "      <th>4</th>\n",
       "      <td>4.7</td>\n",
       "      <td>3.2</td>\n",
       "      <td>1.6</td>\n",
       "      <td>0.2</td>\n",
       "      <td>0</td>\n",
       "    </tr>\n",
       "    <tr>\n",
       "      <th>...</th>\n",
       "      <td>...</td>\n",
       "      <td>...</td>\n",
       "      <td>...</td>\n",
       "      <td>...</td>\n",
       "      <td>...</td>\n",
       "    </tr>\n",
       "    <tr>\n",
       "      <th>70</th>\n",
       "      <td>6.7</td>\n",
       "      <td>3.0</td>\n",
       "      <td>5.2</td>\n",
       "      <td>2.3</td>\n",
       "      <td>2</td>\n",
       "    </tr>\n",
       "    <tr>\n",
       "      <th>71</th>\n",
       "      <td>6.3</td>\n",
       "      <td>2.5</td>\n",
       "      <td>5.0</td>\n",
       "      <td>1.9</td>\n",
       "      <td>2</td>\n",
       "    </tr>\n",
       "    <tr>\n",
       "      <th>72</th>\n",
       "      <td>6.5</td>\n",
       "      <td>3.0</td>\n",
       "      <td>5.2</td>\n",
       "      <td>2.0</td>\n",
       "      <td>2</td>\n",
       "    </tr>\n",
       "    <tr>\n",
       "      <th>73</th>\n",
       "      <td>6.2</td>\n",
       "      <td>3.4</td>\n",
       "      <td>5.4</td>\n",
       "      <td>2.3</td>\n",
       "      <td>2</td>\n",
       "    </tr>\n",
       "    <tr>\n",
       "      <th>74</th>\n",
       "      <td>5.9</td>\n",
       "      <td>3.0</td>\n",
       "      <td>5.1</td>\n",
       "      <td>1.8</td>\n",
       "      <td>2</td>\n",
       "    </tr>\n",
       "  </tbody>\n",
       "</table>\n",
       "<p>75 rows × 5 columns</p>\n",
       "</div>"
      ],
      "text/plain": [
       "    sepalLength  sepalWidth  petalLength  petalWidth  class\n",
       "0           5.0         3.0          1.6         0.2      0\n",
       "1           5.0         3.4          1.6         0.4      0\n",
       "2           5.2         3.5          1.5         0.2      0\n",
       "3           5.2         3.4          1.4         0.2      0\n",
       "4           4.7         3.2          1.6         0.2      0\n",
       "..          ...         ...          ...         ...    ...\n",
       "70          6.7         3.0          5.2         2.3      2\n",
       "71          6.3         2.5          5.0         1.9      2\n",
       "72          6.5         3.0          5.2         2.0      2\n",
       "73          6.2         3.4          5.4         2.3      2\n",
       "74          5.9         3.0          5.1         1.8      2\n",
       "\n",
       "[75 rows x 5 columns]"
      ]
     },
     "execution_count": 4,
     "metadata": {},
     "output_type": "execute_result"
    }
   ],
   "source": [
    "testData"
   ]
  },
  {
   "cell_type": "code",
   "execution_count": 5,
   "id": "polar-apple",
   "metadata": {},
   "outputs": [],
   "source": [
    "trainX = trainData.drop('class', axis=1)\n",
    "\n",
    "trainY = trainData['class']\n",
    "\n",
    "trainX = np.array(trainX)\n",
    "\n",
    "trainY = np.array(trainY).reshape(1, -1).T"
   ]
  },
  {
   "cell_type": "code",
   "execution_count": 6,
   "id": "exciting-stomach",
   "metadata": {},
   "outputs": [
    {
     "data": {
      "text/plain": [
       "(75, 4)"
      ]
     },
     "execution_count": 6,
     "metadata": {},
     "output_type": "execute_result"
    }
   ],
   "source": [
    "trainX.shape"
   ]
  },
  {
   "cell_type": "code",
   "execution_count": 7,
   "id": "welsh-union",
   "metadata": {},
   "outputs": [
    {
     "data": {
      "text/plain": [
       "(75, 1)"
      ]
     },
     "execution_count": 7,
     "metadata": {},
     "output_type": "execute_result"
    }
   ],
   "source": [
    "trainY.shape"
   ]
  },
  {
   "cell_type": "code",
   "execution_count": 8,
   "id": "military-zealand",
   "metadata": {},
   "outputs": [],
   "source": [
    "testX = testData.drop('class', axis=1)\n",
    "\n",
    "testY = testData['class']\n",
    "\n",
    "testX = np.array(testX)\n",
    "\n",
    "testY = np.array(testY).reshape(1, -1).T"
   ]
  },
  {
   "cell_type": "code",
   "execution_count": 9,
   "id": "conservative-shaft",
   "metadata": {},
   "outputs": [
    {
     "data": {
      "text/plain": [
       "(75, 4)"
      ]
     },
     "execution_count": 9,
     "metadata": {},
     "output_type": "execute_result"
    }
   ],
   "source": [
    "testX.shape"
   ]
  },
  {
   "cell_type": "code",
   "execution_count": 10,
   "id": "alpha-robinson",
   "metadata": {},
   "outputs": [
    {
     "data": {
      "text/plain": [
       "(75, 1)"
      ]
     },
     "execution_count": 10,
     "metadata": {},
     "output_type": "execute_result"
    }
   ],
   "source": [
    "testY.shape"
   ]
  },
  {
   "cell_type": "code",
   "execution_count": 11,
   "id": "addressed-investing",
   "metadata": {},
   "outputs": [],
   "source": [
    "trainY = to_categorical(trainY)\n",
    "testY = to_categorical(testY)"
   ]
  },
  {
   "cell_type": "code",
   "execution_count": 12,
   "id": "above-butter",
   "metadata": {},
   "outputs": [],
   "source": [
    "model = models.Sequential()"
   ]
  },
  {
   "cell_type": "code",
   "execution_count": 13,
   "id": "macro-sodium",
   "metadata": {},
   "outputs": [],
   "source": [
    "model.add(layers.Dense(500, activation='relu', input_shape=(4,)))\n",
    "#model.add(layers.Dense(200, activation='relu'))\n",
    "model.add(layers.Dense(3, activation='softmax'))\n",
    "\n",
    "model.compile(optimizer='rmsprop', loss='categorical_crossentropy', metrics=['accuracy'])"
   ]
  },
  {
   "cell_type": "code",
   "execution_count": 14,
   "id": "serious-norfolk",
   "metadata": {},
   "outputs": [
    {
     "name": "stdout",
     "output_type": "stream",
     "text": [
      "Epoch 1/100\n",
      "3/3 [==============================] - 0s 841us/step - loss: 1.1647 - accuracy: 0.2622\n",
      "Epoch 2/100\n",
      "3/3 [==============================] - 0s 584us/step - loss: 0.9436 - accuracy: 0.4921\n",
      "Epoch 3/100\n",
      "3/3 [==============================] - 0s 570us/step - loss: 0.8060 - accuracy: 0.6927\n",
      "Epoch 4/100\n",
      "3/3 [==============================] - 0s 577us/step - loss: 0.7514 - accuracy: 0.7578\n",
      "Epoch 5/100\n",
      "3/3 [==============================] - 0s 590us/step - loss: 0.6785 - accuracy: 0.7745\n",
      "Epoch 6/100\n",
      "3/3 [==============================] - 0s 721us/step - loss: 0.6264 - accuracy: 0.8203\n",
      "Epoch 7/100\n",
      "3/3 [==============================] - 0s 737us/step - loss: 0.6590 - accuracy: 0.5985\n",
      "Epoch 8/100\n",
      "3/3 [==============================] - 0s 1ms/step - loss: 0.5679 - accuracy: 0.9143\n",
      "Epoch 9/100\n",
      "3/3 [==============================] - 0s 1ms/step - loss: 0.5391 - accuracy: 0.7672\n",
      "Epoch 10/100\n",
      "3/3 [==============================] - 0s 805us/step - loss: 0.5512 - accuracy: 0.6865\n",
      "Epoch 11/100\n",
      "3/3 [==============================] - 0s 607us/step - loss: 0.5104 - accuracy: 0.8341\n",
      "Epoch 12/100\n",
      "3/3 [==============================] - 0s 2ms/step - loss: 0.4936 - accuracy: 0.7660\n",
      "Epoch 13/100\n",
      "3/3 [==============================] - 0s 975us/step - loss: 0.4451 - accuracy: 0.7761\n",
      "Epoch 14/100\n",
      "3/3 [==============================] - 0s 589us/step - loss: 0.4704 - accuracy: 0.7817\n",
      "Epoch 15/100\n",
      "3/3 [==============================] - 0s 2ms/step - loss: 0.4208 - accuracy: 0.7656\n",
      "Epoch 16/100\n",
      "3/3 [==============================] - 0s 988us/step - loss: 0.4268 - accuracy: 0.8908\n",
      "Epoch 17/100\n",
      "3/3 [==============================] - 0s 764us/step - loss: 0.3936 - accuracy: 0.7801\n",
      "Epoch 18/100\n",
      "3/3 [==============================] - 0s 625us/step - loss: 0.4224 - accuracy: 0.8396\n",
      "Epoch 19/100\n",
      "3/3 [==============================] - 0s 718us/step - loss: 0.4167 - accuracy: 0.8368\n",
      "Epoch 20/100\n",
      "3/3 [==============================] - 0s 1ms/step - loss: 0.3784 - accuracy: 0.9499\n",
      "Epoch 21/100\n",
      "3/3 [==============================] - 0s 916us/step - loss: 0.3517 - accuracy: 0.9076\n",
      "Epoch 22/100\n",
      "3/3 [==============================] - 0s 588us/step - loss: 0.3635 - accuracy: 0.8764\n",
      "Epoch 23/100\n",
      "3/3 [==============================] - 0s 692us/step - loss: 0.3405 - accuracy: 0.9683\n",
      "Epoch 24/100\n",
      "3/3 [==============================] - 0s 547us/step - loss: 0.3482 - accuracy: 0.9471\n",
      "Epoch 25/100\n",
      "3/3 [==============================] - 0s 704us/step - loss: 0.3462 - accuracy: 0.9327\n",
      "Epoch 26/100\n",
      "3/3 [==============================] - 0s 1ms/step - loss: 0.3568 - accuracy: 0.8541\n",
      "Epoch 27/100\n",
      "3/3 [==============================] - 0s 976us/step - loss: 0.3448 - accuracy: 0.8713\n",
      "Epoch 28/100\n",
      "3/3 [==============================] - 0s 706us/step - loss: 0.3171 - accuracy: 0.9393\n",
      "Epoch 29/100\n",
      "3/3 [==============================] - 0s 679us/step - loss: 0.3233 - accuracy: 0.8474\n",
      "Epoch 30/100\n",
      "3/3 [==============================] - 0s 2ms/step - loss: 0.3023 - accuracy: 0.9683\n",
      "Epoch 31/100\n",
      "3/3 [==============================] - 0s 891us/step - loss: 0.2991 - accuracy: 1.0000\n",
      "Epoch 32/100\n",
      "3/3 [==============================] - 0s 638us/step - loss: 0.2811 - accuracy: 1.0000\n",
      "Epoch 33/100\n",
      "3/3 [==============================] - 0s 624us/step - loss: 0.2731 - accuracy: 0.9710\n",
      "Epoch 34/100\n",
      "3/3 [==============================] - 0s 604us/step - loss: 0.2736 - accuracy: 0.9828\n",
      "Epoch 35/100\n",
      "3/3 [==============================] - 0s 2ms/step - loss: 0.2562 - accuracy: 0.9749\n",
      "Epoch 36/100\n",
      "3/3 [==============================] - 0s 1ms/step - loss: 0.2794 - accuracy: 0.8837\n",
      "Epoch 37/100\n",
      "3/3 [==============================] - 0s 711us/step - loss: 0.2501 - accuracy: 0.9299\n",
      "Epoch 38/100\n",
      "3/3 [==============================] - 0s 606us/step - loss: 0.2438 - accuracy: 0.9789\n",
      "Epoch 39/100\n",
      "3/3 [==============================] - 0s 623us/step - loss: 0.2428 - accuracy: 0.9828\n",
      "Epoch 40/100\n",
      "3/3 [==============================] - 0s 808us/step - loss: 0.2235 - accuracy: 0.9933\n",
      "Epoch 41/100\n",
      "3/3 [==============================] - 0s 1ms/step - loss: 0.2365 - accuracy: 0.9471\n",
      "Epoch 42/100\n",
      "3/3 [==============================] - 0s 862us/step - loss: 0.2298 - accuracy: 0.9828\n",
      "Epoch 43/100\n",
      "3/3 [==============================] - 0s 657us/step - loss: 0.2416 - accuracy: 0.9265\n",
      "Epoch 44/100\n",
      "3/3 [==============================] - 0s 564us/step - loss: 0.2592 - accuracy: 0.9092\n",
      "Epoch 45/100\n",
      "3/3 [==============================] - 0s 583us/step - loss: 0.2146 - accuracy: 0.9722\n",
      "Epoch 46/100\n",
      "3/3 [==============================] - 0s 1ms/step - loss: 0.2958 - accuracy: 0.8251\n",
      "Epoch 47/100\n",
      "3/3 [==============================] - 0s 785us/step - loss: 0.2549 - accuracy: 0.9159\n",
      "Epoch 48/100\n",
      "3/3 [==============================] - 0s 556us/step - loss: 0.2153 - accuracy: 0.9722\n",
      "Epoch 49/100\n",
      "3/3 [==============================] - 0s 520us/step - loss: 0.2184 - accuracy: 0.9354\n",
      "Epoch 50/100\n",
      "3/3 [==============================] - 0s 552us/step - loss: 0.1872 - accuracy: 0.9789\n",
      "Epoch 51/100\n",
      "3/3 [==============================] - 0s 722us/step - loss: 0.1789 - accuracy: 0.9789\n",
      "Epoch 52/100\n",
      "3/3 [==============================] - 0s 1ms/step - loss: 0.1926 - accuracy: 0.9749\n",
      "Epoch 53/100\n",
      "3/3 [==============================] - 0s 961us/step - loss: 0.1872 - accuracy: 0.9816\n",
      "Epoch 54/100\n",
      "3/3 [==============================] - 0s 927us/step - loss: 0.1932 - accuracy: 0.9644\n",
      "Epoch 55/100\n",
      "3/3 [==============================] - 0s 1ms/step - loss: 0.2092 - accuracy: 0.9382\n",
      "Epoch 56/100\n",
      "3/3 [==============================] - 0s 1ms/step - loss: 0.1676 - accuracy: 0.9933\n",
      "Epoch 57/100\n",
      "3/3 [==============================] - 0s 919us/step - loss: 0.1766 - accuracy: 0.9632\n",
      "Epoch 58/100\n",
      "3/3 [==============================] - 0s 605us/step - loss: 0.1699 - accuracy: 0.9710\n",
      "Epoch 59/100\n",
      "3/3 [==============================] - 0s 508us/step - loss: 0.1580 - accuracy: 0.9527\n",
      "Epoch 60/100\n",
      "3/3 [==============================] - 0s 531us/step - loss: 0.1763 - accuracy: 0.9382\n",
      "Epoch 61/100\n",
      "3/3 [==============================] - 0s 1ms/step - loss: 0.1624 - accuracy: 0.9644\n",
      "Epoch 62/100\n",
      "3/3 [==============================] - 0s 585us/step - loss: 0.1552 - accuracy: 0.9749\n",
      "Epoch 63/100\n",
      "3/3 [==============================] - 0s 565us/step - loss: 0.1439 - accuracy: 0.9933\n",
      "Epoch 64/100\n",
      "3/3 [==============================] - 0s 601us/step - loss: 0.1469 - accuracy: 0.9632\n",
      "Epoch 65/100\n",
      "3/3 [==============================] - 0s 570us/step - loss: 0.1957 - accuracy: 0.9393\n",
      "Epoch 66/100\n",
      "3/3 [==============================] - 0s 555us/step - loss: 0.1599 - accuracy: 0.9605\n",
      "Epoch 67/100\n",
      "3/3 [==============================] - 0s 2ms/step - loss: 0.1439 - accuracy: 0.9894\n",
      "Epoch 68/100\n",
      "3/3 [==============================] - 0s 664us/step - loss: 0.1375 - accuracy: 0.9894\n",
      "Epoch 69/100\n",
      "3/3 [==============================] - 0s 924us/step - loss: 0.1301 - accuracy: 0.9894\n",
      "Epoch 70/100\n",
      "3/3 [==============================] - 0s 634us/step - loss: 0.1237 - accuracy: 0.9816\n",
      "Epoch 71/100\n",
      "3/3 [==============================] - 0s 608us/step - loss: 0.1767 - accuracy: 0.9632\n",
      "Epoch 72/100\n",
      "3/3 [==============================] - 0s 1ms/step - loss: 0.1512 - accuracy: 0.9448\n",
      "Epoch 73/100\n",
      "3/3 [==============================] - 0s 767us/step - loss: 0.1271 - accuracy: 1.0000\n",
      "Epoch 74/100\n",
      "3/3 [==============================] - 0s 689us/step - loss: 0.1262 - accuracy: 0.9527\n",
      "Epoch 75/100\n",
      "3/3 [==============================] - 0s 862us/step - loss: 0.1138 - accuracy: 0.9894\n",
      "Epoch 76/100\n",
      "3/3 [==============================] - 0s 2ms/step - loss: 0.1334 - accuracy: 0.9632\n",
      "Epoch 77/100\n",
      "3/3 [==============================] - 0s 1ms/step - loss: 0.1588 - accuracy: 0.9421\n",
      "Epoch 78/100\n",
      "3/3 [==============================] - 0s 634us/step - loss: 0.1100 - accuracy: 0.9894\n",
      "Epoch 79/100\n",
      "3/3 [==============================] - 0s 523us/step - loss: 0.1139 - accuracy: 0.9894\n",
      "Epoch 80/100\n",
      "3/3 [==============================] - 0s 627us/step - loss: 0.1141 - accuracy: 0.9894\n",
      "Epoch 81/100\n",
      "3/3 [==============================] - 0s 604us/step - loss: 0.1279 - accuracy: 1.0000\n",
      "Epoch 82/100\n",
      "3/3 [==============================] - 0s 1ms/step - loss: 0.1145 - accuracy: 0.9816\n",
      "Epoch 83/100\n"
     ]
    },
    {
     "name": "stdout",
     "output_type": "stream",
     "text": [
      "3/3 [==============================] - 0s 562us/step - loss: 0.1023 - accuracy: 0.9789\n",
      "Epoch 84/100\n",
      "3/3 [==============================] - 0s 594us/step - loss: 0.1037 - accuracy: 0.9816\n",
      "Epoch 85/100\n",
      "3/3 [==============================] - 0s 590us/step - loss: 0.0968 - accuracy: 1.0000\n",
      "Epoch 86/100\n",
      "3/3 [==============================] - 0s 578us/step - loss: 0.1476 - accuracy: 0.9448\n",
      "Epoch 87/100\n",
      "3/3 [==============================] - 0s 633us/step - loss: 0.1012 - accuracy: 0.9710\n",
      "Epoch 88/100\n",
      "3/3 [==============================] - 0s 2ms/step - loss: 0.0970 - accuracy: 0.9816\n",
      "Epoch 89/100\n",
      "3/3 [==============================] - 0s 692us/step - loss: 0.1643 - accuracy: 0.9343\n",
      "Epoch 90/100\n",
      "3/3 [==============================] - 0s 741us/step - loss: 0.0951 - accuracy: 0.9816\n",
      "Epoch 91/100\n",
      "3/3 [==============================] - 0s 707us/step - loss: 0.0929 - accuracy: 1.0000\n",
      "Epoch 92/100\n",
      "3/3 [==============================] - 0s 1ms/step - loss: 0.0943 - accuracy: 0.9710\n",
      "Epoch 93/100\n",
      "3/3 [==============================] - 0s 648us/step - loss: 0.1050 - accuracy: 0.9527\n",
      "Epoch 94/100\n",
      "3/3 [==============================] - 0s 556us/step - loss: 0.0962 - accuracy: 0.9894\n",
      "Epoch 95/100\n",
      "3/3 [==============================] - 0s 715us/step - loss: 0.1170 - accuracy: 0.9566\n",
      "Epoch 96/100\n",
      "3/3 [==============================] - 0s 638us/step - loss: 0.1036 - accuracy: 0.9816\n",
      "Epoch 97/100\n",
      "3/3 [==============================] - 0s 619us/step - loss: 0.0962 - accuracy: 0.9683\n",
      "Epoch 98/100\n",
      "3/3 [==============================] - 0s 624us/step - loss: 0.1163 - accuracy: 0.9632\n",
      "Epoch 99/100\n",
      "3/3 [==============================] - 0s 1ms/step - loss: 0.0816 - accuracy: 1.0000\n",
      "Epoch 100/100\n",
      "3/3 [==============================] - 0s 615us/step - loss: 0.0771 - accuracy: 0.9828\n"
     ]
    },
    {
     "data": {
      "text/plain": [
       "<tensorflow.python.keras.callbacks.History at 0x16d21bb80>"
      ]
     },
     "execution_count": 14,
     "metadata": {},
     "output_type": "execute_result"
    }
   ],
   "source": [
    "model.fit(trainX, trainY, epochs=100)"
   ]
  },
  {
   "cell_type": "code",
   "execution_count": 15,
   "id": "animated-catalyst",
   "metadata": {},
   "outputs": [
    {
     "name": "stdout",
     "output_type": "stream",
     "text": [
      "3/3 [==============================] - 0s 599us/step - loss: 0.1282 - accuracy: 0.9733\n",
      "test_acc:  0.9733333587646484\n"
     ]
    }
   ],
   "source": [
    "test_loss, test_acc = model.evaluate(testX, testY)\n",
    "print('test_acc: ', test_acc)"
   ]
  },
  {
   "cell_type": "code",
   "execution_count": 24,
   "id": "modified-outdoors",
   "metadata": {},
   "outputs": [
    {
     "data": {
      "image/png": "[encoded data removed]",
      "text/plain": [
       "<Figure size 432x288 with 1 Axes>"
      ]
     },
     "metadata": {
      "needs_background": "light"
     },
     "output_type": "display_data"
    },
    {
     "data": {
      "image/png": "[encoded data removed]",
      "text/plain": [
       "<Figure size 432x288 with 1 Axes>"
      ]
     },
     "metadata": {
      "needs_background": "light"
     },
     "output_type": "display_data"
    },
    {
     "data": {
      "text/plain": [
       "<Figure size 3600x3600 with 0 Axes>"
      ]
     },
     "metadata": {},
     "output_type": "display_data"
    }
   ],
   "source": [
    "trainData.plot(kind='scatter', x='sepalLength', y='sepalWidth')\n",
    "trainData.plot(kind='scatter', x='petalLength', y='petalWidth')\n",
    "plt.figure(figsize=(50,50))\n",
    "plt.show()"
   ]
  },
  {
   "cell_type": "code",
   "execution_count": null,
   "id": "foster-measurement",
   "metadata": {},
   "outputs": [],
   "source": []
  }
 ],
 "metadata": {
  "kernelspec": {
   "display_name": "“tensorflow_m1”",
   "language": "python",
   "name": "tensorflow_macos_venv"
  },
  "language_info": {
   "codemirror_mode": {
    "name": "ipython",
    "version": 3
   },
   "file_extension": ".py",
   "mimetype": "text/x-python",
   "name": "python",
   "nbconvert_exporter": "python",
   "pygments_lexer": "ipython3",
   "version": "3.8.6"
  }
 },
 "nbformat": 4,
 "nbformat_minor": 5
}
